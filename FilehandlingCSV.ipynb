{
 "cells": [
  {
   "cell_type": "code",
   "execution_count": 1,
   "id": "2fa0a996-7cc7-4258-b67b-9a921b1ef4aa",
   "metadata": {},
   "outputs": [],
   "source": [
    "#CSV FILES\n"
   ]
  },
  {
   "cell_type": "code",
   "execution_count": 8,
   "id": "36719591-78ce-4399-b5c8-b1f1d3c3c8d5",
   "metadata": {},
   "outputs": [],
   "source": [
    "import csv"
   ]
  },
  {
   "cell_type": "code",
   "execution_count": 30,
   "id": "9a4c5df9-63cd-41bb-8af8-360aff744a53",
   "metadata": {},
   "outputs": [],
   "source": [
    "with open(\"data.csv\", 'w',newline=\"\") as file:\n",
    "    csv_write = csv.writer(file, delimiter=',') #header\n",
    "    csv_write.writerow([\"Year\",\"Event\",\"Winner\"]) #data /record\n",
    "    csv_write.writerow([\"1995\",\"Bets-kept Lawn\",\"None\"])\n",
    "    csv_write.writerow([\"1999\",\"Gobstones\",\"Welch National\"])"
   ]
  },
  {
   "cell_type": "code",
   "execution_count": 31,
   "id": "be7e5d1a-b57a-4d8a-b152-3f9d03ea62b6",
   "metadata": {},
   "outputs": [],
   "source": [
    "with open(\"data.csv\", 'a',newline=\"\") as file:\n",
    "    csv_write = csv.writer(file, delimiter=',') #header\n",
    "    csv_write.writerow([\"2000\",\"t-20\",\"Pakistan\"]) #data /record\n",
    "    csv_write.writerow([\"2000\",\"one-day\",\"Pakistan\"]) #data /record\n"
   ]
  },
  {
   "cell_type": "code",
   "execution_count": 32,
   "id": "c15429d4-0990-466b-a527-064b4429790b",
   "metadata": {},
   "outputs": [],
   "source": [
    "with open(\"data.csv\", 'r' ) as file:\n",
    "    csv_reader = csv.reader(file, delimiter=',') #header\n",
    "    #print(list(csv_reader))\n",
    "    csv_list =[]\n",
    "    for record in csv_reader:\n",
    "        csv_list +=record\n"
   ]
  },
  {
   "cell_type": "code",
   "execution_count": 33,
   "id": "2a75fa6b-a26e-4a59-a161-4ac817608a85",
   "metadata": {},
   "outputs": [
    {
     "name": "stdout",
     "output_type": "stream",
     "text": [
      "<_csv.reader object at 0x000001C87F90F040>\n"
     ]
    }
   ],
   "source": [
    "print(csv_reader)"
   ]
  },
  {
   "cell_type": "code",
   "execution_count": 34,
   "id": "ef12d9dd-b712-46e3-afd5-09660562f06b",
   "metadata": {},
   "outputs": [
    {
     "name": "stdout",
     "output_type": "stream",
     "text": [
      "['Year', 'Event', 'Winner', '1995', 'Bets-kept Lawn', 'None', '1999', 'Gobstones', 'Welch National', '2000', 't-20', 'Pakistan', '2000', 'one-day', 'Pakistan']\n"
     ]
    }
   ],
   "source": [
    "print(csv_list)"
   ]
  },
  {
   "cell_type": "code",
   "execution_count": 35,
   "id": "f06bd7e9-afb4-4ade-ae7d-9fab65208362",
   "metadata": {},
   "outputs": [
    {
     "name": "stdout",
     "output_type": "stream",
     "text": [
      "['Year', 'Event', 'Winner']\n",
      "['1995', 'Bets-kept Lawn', 'None']\n",
      "['1999', 'Gobstones', 'Welch National']\n",
      "['2000', 't-20', 'Pakistan']\n",
      "['2000', 'one-day', 'Pakistan']\n"
     ]
    }
   ],
   "source": [
    "with open(\"data.csv\", 'r',newline=\"\") as file:\n",
    "    csv_reader = csv.reader(file, delimiter=',') #header\n",
    "    for record in list(csv_reader):\n",
    "        print(record)"
   ]
  },
  {
   "cell_type": "code",
   "execution_count": 47,
   "id": "679c8e6d-e44c-4034-9df0-ee71839165dd",
   "metadata": {},
   "outputs": [],
   "source": [
    "with open(\"hello.csv\", 'w',newline=\"\") as file:\n",
    "    csv_write = csv.writer(file, delimiter='|') #header\n",
    "    csv_write.writerow([\"A\",\"B\",\"C\"]) #data /record\n",
    "    csv_write.writerow([\"x\",\"y\",\"z\"])\n",
    "    csv_write.writerow([\"x\",\"y2\",\"z2\"])"
   ]
  },
  {
   "cell_type": "code",
   "execution_count": 48,
   "id": "e939897f-6e0a-45c5-95ae-c60b3102bc75",
   "metadata": {},
   "outputs": [],
   "source": [
    "with open(\"hello.csv\", 'a',newline=\"\") as file:\n",
    "    csv_write = csv.writer(file, delimiter='|') #header\n",
    "    csv_write.writerow([\"a\",\"b\",\"c\"]) #data /record\n",
    "    csv_write.writerow([\"d\",\"e\",\"f\"]) #data /record\n",
    "    csv_write.writerow([\"g\",\"h\",\"i\"]) #data /record\n"
   ]
  },
  {
   "cell_type": "code",
   "execution_count": 49,
   "id": "af2f67b4-e10c-4c65-8f9e-0dcff5ed224b",
   "metadata": {},
   "outputs": [
    {
     "name": "stdout",
     "output_type": "stream",
     "text": [
      "['A', 'B', 'C']\n",
      "['x', 'y', 'z']\n",
      "['x', 'y2', 'z2']\n",
      "['a', 'b', 'c']\n",
      "['d', 'e', 'f']\n",
      "['g', 'h', 'i']\n"
     ]
    }
   ],
   "source": [
    "with open(\"hello.csv\", 'r',newline=\"\") as file:\n",
    "    csv_reader = csv.reader(file, delimiter='|') #header\n",
    "    for record in list(csv_reader):\n",
    "        print(record)"
   ]
  },
  {
   "cell_type": "code",
   "execution_count": null,
   "id": "7904656a-0f73-43a7-9017-16ab10852757",
   "metadata": {},
   "outputs": [],
   "source": []
  }
 ],
 "metadata": {
  "kernelspec": {
   "display_name": "Python 3 (ipykernel)",
   "language": "python",
   "name": "python3"
  },
  "language_info": {
   "codemirror_mode": {
    "name": "ipython",
    "version": 3
   },
   "file_extension": ".py",
   "mimetype": "text/x-python",
   "name": "python",
   "nbconvert_exporter": "python",
   "pygments_lexer": "ipython3",
   "version": "3.11.7"
  }
 },
 "nbformat": 4,
 "nbformat_minor": 5
}
