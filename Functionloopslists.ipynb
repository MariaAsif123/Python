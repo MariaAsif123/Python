{
 "cells": [
  {
   "cell_type": "code",
   "execution_count": 1,
   "id": "50b952aa-2049-46cf-abab-d00a8056fdc0",
   "metadata": {},
   "outputs": [
    {
     "name": "stdout",
     "output_type": "stream",
     "text": [
      "Hello, welcome to Python programming!\n",
      "The sum is 8\n",
      "4 is even: True\n",
      "The maximum value is 9\n",
      "The reverse of 'Python' is 'nohtyP'\n"
     ]
    }
   ],
   "source": [
    "#Chapter 8: Functions\n",
    "\n",
    "# Define a function that prints a greeting message\n",
    "\n",
    "def greet():\n",
    "    print(\"Hello, welcome to Python programming!\")\n",
    "greet()\n",
    "\n",
    " #Define a function that takes two numbers and returns their sum\n",
    "\n",
    "def add(a, b):\n",
    "    return a + b\n",
    "result = add(5, 3)\n",
    "print(f\"The sum is {result}\")\n",
    "\n",
    "# Define a function that checks if a number is even or odd\n",
    "\n",
    "def is_even(number):\n",
    "    return number % 2 == 0\n",
    "number = 4\n",
    "print(f\"{number} is even: {is_even(number)}\")\n",
    "#Define a function that takes a list and returns the maximum value\n",
    "\n",
    "def find_max(numbers):\n",
    "    return max(numbers)\n",
    "numbers = [3, 5, 1, 9, 7]\n",
    "print(f\"The maximum value is {find_max(numbers)}\")\n",
    "\n",
    "#Define a function that reverses a string\n",
    "\n",
    "def reverse_string(s):\n",
    "    return s[::-1]\n",
    "string = \"Python\"\n",
    "print(f\"The reverse of '{string}' is '{reverse_string(string)}'\")\n"
   ]
  },
  {
   "cell_type": "code",
   "execution_count": 2,
   "id": "f2717cf1-6eeb-4338-95ba-404dd3af6b87",
   "metadata": {},
   "outputs": [
    {
     "name": "stdout",
     "output_type": "stream",
     "text": [
      "-5 is negative\n",
      "The grade is B\n",
      "10 is a positive even number\n",
      "12 is divisible by both 2 and 3\n"
     ]
    },
    {
     "name": "stdin",
     "output_type": "stream",
     "text": [
      "Enter a number:  4\n"
     ]
    },
    {
     "name": "stdout",
     "output_type": "stream",
     "text": [
      "The number is less than 10\n"
     ]
    }
   ],
   "source": [
    "#Chapter 9: Conditional Statements\n",
    "\n",
    "#Use an if-else statement to check if a number is positive or negative\n",
    "\n",
    "number = -5\n",
    "if number >= 0:\n",
    "    print(f\"{number} is positive\")\n",
    "else:\n",
    "    print(f\"{number} is negative\")\n",
    "\n",
    "#Use an if-elif-else statement to grade a score\n",
    "\n",
    "score = 85\n",
    "if score >= 90:\n",
    "    grade = 'A'\n",
    "elif score >= 80:\n",
    "    grade = 'B'\n",
    "elif score >= 70:\n",
    "    grade = 'C'\n",
    "elif score >= 60:\n",
    "    grade = 'D'\n",
    "else:\n",
    "    grade = 'F'\n",
    "print(f\"The grade is {grade}\")\n",
    "\n",
    "# Use nested if statements\n",
    "\n",
    "number = 10\n",
    "if number > 0:\n",
    "    if number % 2 == 0:\n",
    "        print(f\"{number} is a positive even number\")\n",
    "    else:\n",
    "        print(f\"{number} is a positive odd number\")\n",
    "else:\n",
    "    print(f\"{number} is a negative number\")\n",
    "\n",
    "#Check if a number is divisible by both 2 and 3\n",
    "\n",
    "number = 12\n",
    "if number % 2 == 0 and number % 3 == 0:\n",
    "    print(f\"{number} is divisible by both 2 and 3\")\n",
    "else:\n",
    "    print(f\"{number} is not divisible by both 2 and 3\")\n",
    "    \n",
    "#Use a conditional statement to print a specific message based on user input\n",
    "user_input = input(\"Enter a number: \")\n",
    "number = int(user_input)\n",
    "if number > 10:\n",
    "    print(\"The number is greater than 10\")\n",
    "elif number == 10:\n",
    "    print(\"The number is exactly 10\")\n",
    "else:\n",
    "    print(\"The number is less than 10\")\n"
   ]
  },
  {
   "cell_type": "code",
   "execution_count": 3,
   "id": "965c98f7-b23b-454d-a0e5-5e92ea4412ea",
   "metadata": {},
   "outputs": [
    {
     "name": "stdout",
     "output_type": "stream",
     "text": [
      "1\n",
      "2\n",
      "3\n",
      "4\n",
      "5\n",
      "6\n",
      "7\n",
      "8\n",
      "9\n",
      "10\n",
      "apple\n",
      "banana\n",
      "cherry\n",
      "The factorial is 120\n",
      "The sum of the list is 15\n",
      "  1   2   3   4   5   6   7   8   9  10 \n",
      "  2   4   6   8  10  12  14  16  18  20 \n",
      "  3   6   9  12  15  18  21  24  27  30 \n",
      "  4   8  12  16  20  24  28  32  36  40 \n",
      "  5  10  15  20  25  30  35  40  45  50 \n",
      "  6  12  18  24  30  36  42  48  54  60 \n",
      "  7  14  21  28  35  42  49  56  63  70 \n",
      "  8  16  24  32  40  48  56  64  72  80 \n",
      "  9  18  27  36  45  54  63  72  81  90 \n",
      " 10  20  30  40  50  60  70  80  90 100 \n"
     ]
    }
   ],
   "source": [
    "#Chapter 10: Loops\n",
    "\n",
    "#Print numbers from 1 to 10 using a for loop\n",
    "\n",
    "for i in range(1, 11):\n",
    "    print(i)\n",
    "\n",
    "#Print the elements of a list using a for loop\n",
    "\n",
    "fruits = [\"apple\", \"banana\", \"cherry\"]\n",
    "for fruit in fruits:\n",
    "    print(fruit)\n",
    "\n",
    "#Calculate the factorial of a number using a while loop\n",
    "number = 5\n",
    "factorial = 1\n",
    "while number > 0:\n",
    "    factorial *= number\n",
    "    number -= 1\n",
    "print(f\"The factorial is {factorial}\")\n",
    "\n",
    "#Use a loop to sum the elements of a list\n",
    "\n",
    "numbers = [1, 2, 3, 4, 5]\n",
    "total = 0\n",
    "for number in numbers:\n",
    "    total += number\n",
    "print(f\"The sum of the list is {total}\")\n",
    "\n",
    "#Use nested loops to print a multiplication table\n",
    "\n",
    "for i in range(1, 11):\n",
    "    for j in range(1, 11):\n",
    "        print(f\"{i * j:3}\", end=\" \")\n",
    "    print()\n"
   ]
  },
  {
   "cell_type": "code",
   "execution_count": 4,
   "id": "a57dd5e0-afa9-4cbc-afa7-590067724d81",
   "metadata": {},
   "outputs": [
    {
     "name": "stdout",
     "output_type": "stream",
     "text": [
      "apple\n",
      "banana\n",
      "cherry\n",
      "['apple', 'banana', 'cherry', 'orange']\n",
      "['apple', 'cherry']\n",
      "[1, 1, 3, 4, 5, 9]\n",
      "The length of the list is 3\n"
     ]
    }
   ],
   "source": [
    "#Chapter 11: Lists\n",
    "# Create a list of fruits and print each fruit\n",
    "\n",
    "fruits = [\"apple\", \"banana\", \"cherry\"]\n",
    "for fruit in fruits:\n",
    "    print(fruit)\n",
    "#Add an element to a list and print the updated list\n",
    "\n",
    "fruits = [\"apple\", \"banana\", \"cherry\"]\n",
    "fruits.append(\"orange\")\n",
    "print(fruits)\n",
    "\n",
    "#Remove an element from a list and print the updated list\n",
    "\n",
    "fruits = [\"apple\", \"banana\", \"cherry\"]\n",
    "fruits.remove(\"banana\")\n",
    "print(fruits)\n",
    "\n",
    "#Sort a list of numbers and print the sorted list\n",
    "\n",
    "numbers = [3, 1, 4, 1, 5, 9]\n",
    "numbers.sort()\n",
    "print(numbers)\n",
    "\n",
    "# Task 5: Find the length of a list and print it\n",
    "\n",
    "fruits = [\"apple\", \"banana\", \"cherry\"]\n",
    "print(f\"The length of the list is {len(fruits)}\")\n"
   ]
  },
  {
   "cell_type": "code",
   "execution_count": 5,
   "id": "5f865047-3611-4b1d-94ce-4c6e91584756",
   "metadata": {},
   "outputs": [
    {
     "name": "stdout",
     "output_type": "stream",
     "text": [
      "name: Alice\n",
      "age: 25\n",
      "city: New York\n",
      "{'name': 'Alice', 'age': 25, 'city': 'New York'}\n",
      "{'name': 'Alice', 'city': 'New York'}\n",
      "{'name': 'Alice', 'age': 26, 'city': 'New York'}\n",
      "name: Alice\n",
      "age: 25\n",
      "city: New York\n"
     ]
    }
   ],
   "source": [
    "#Chapter 12: Dictionaries\n",
    "#Task 1: Create a dictionary with key-value pairs and print each key and value\n",
    "person = {\"name\": \"Alice\", \"age\": 25, \"city\": \"New York\"}\n",
    "for key, value in person.items():\n",
    "    print(f\"{key}: {value}\")\n",
    "#Task 2: Add a new key-value pair to a dictionary and print the updated dictionary\n",
    "\n",
    "person = {\"name\": \"Alice\", \"age\": 25}\n",
    "person[\"city\"] = \"New York\"\n",
    "print(person)\n",
    "\n",
    "#Task 3: Remove a key-value pair from a dictionary and print the updated dictionary\n",
    "\n",
    "person = {\"name\": \"Alice\", \"age\": 25, \"city\": \"New York\"}\n",
    "del person[\"age\"]\n",
    "print(person)\n",
    "\n",
    "#Task 4: Update the value of an existing key in a dictionary\n",
    "\n",
    "person = {\"name\": \"Alice\", \"age\": 25, \"city\": \"New York\"}\n",
    "person[\"age\"] = 26\n",
    "print(person)\n",
    "\n",
    "#Task 5: Iterate through a dictionary and print each key and value\n",
    "person = {\"name\": \"Alice\", \"age\": 25, \"city\": \"New York\"}\n",
    "for key in person:\n",
    "    print(f\"{key}: {person[key]}\")"
   ]
  },
  {
   "cell_type": "code",
   "execution_count": 6,
   "id": "985711d8-7189-451d-a1d8-6afae9026405",
   "metadata": {},
   "outputs": [
    {
     "name": "stdout",
     "output_type": "stream",
     "text": [
      "1\n",
      "2\n",
      "3\n",
      "4\n",
      "5\n",
      "apple\n",
      "banana\n",
      "cherry\n",
      "Error: 'tuple' object does not support item assignment\n",
      "(1, 2, 3, 4, 5, 6)\n",
      "('Alice', 25, 'New York')\n"
     ]
    }
   ],
   "source": [
    "#Chapter 13: Tuples\n",
    "\n",
    "#Task 1: Create a tuple and print each element\n",
    "my_tuple = (1, 2, 3, 4, 5)\n",
    "for element in my_tuple:\n",
    "    print(element)\n",
    "#Task 2: Access elements in a tuple using indexing\n",
    "my_tuple = (\"apple\", \"banana\", \"cherry\")\n",
    "print(my_tuple[0])  # prints \"apple\"\n",
    "print(my_tuple[1])  # prints \"banana\"\n",
    "print(my_tuple[2])  # prints \"cherry\"\n",
    "#Task 3: Attempt to modify a tuple (and handle the exception)\n",
    "my_tuple = (1, 2, 3)\n",
    "try:\n",
    "    my_tuple[0] = 10\n",
    "except TypeError as e:\n",
    "    print(f\"Error: {e}\")\n",
    "#Task 4: Concatenate two tuples\n",
    "tuple1 = (1, 2, 3)\n",
    "tuple2 = (4, 5, 6)\n",
    "result = tuple1 + tuple2\n",
    "print(result)\n",
    "\n",
    "#Task 5: Use a tuple in a function to return multiple values\n",
    "\n",
    "def get_person():\n",
    "    name = \"Alice\"\n",
    "    age = 25\n",
    "    city = \"New York\"\n",
    "    return name, age, city\n",
    "\n",
    "person = get_person()\n",
    "print(person)"
   ]
  },
  {
   "cell_type": "code",
   "execution_count": null,
   "id": "d955654f-c87e-446d-93a2-0604e8592ad6",
   "metadata": {},
   "outputs": [],
   "source": []
  }
 ],
 "metadata": {
  "kernelspec": {
   "display_name": "Python 3 (ipykernel)",
   "language": "python",
   "name": "python3"
  },
  "language_info": {
   "codemirror_mode": {
    "name": "ipython",
    "version": 3
   },
   "file_extension": ".py",
   "mimetype": "text/x-python",
   "name": "python",
   "nbconvert_exporter": "python",
   "pygments_lexer": "ipython3",
   "version": "3.11.7"
  }
 },
 "nbformat": 4,
 "nbformat_minor": 5
}
