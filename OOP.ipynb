{
 "cells": [
  {
   "cell_type": "code",
   "execution_count": 1,
   "id": "747d7950-9f63-451a-835f-c8d59bc55832",
   "metadata": {},
   "outputs": [
    {
     "name": "stdout",
     "output_type": "stream",
     "text": [
      "Woof!\n"
     ]
    }
   ],
   "source": [
    "#Chapter 17: Object-Oriented Programming (OOP)\n",
    "#Task 1: Define a simple class with a method\n",
    "class Dog:\n",
    "    def bark(self):\n",
    "        print(\"Woof!\")\n",
    "\n",
    "dog = Dog()\n",
    "dog.bark()\n"
   ]
  },
  {
   "cell_type": "code",
   "execution_count": 2,
   "id": "cbc13692-683b-4e72-a4f8-d4621250092f",
   "metadata": {},
   "outputs": [
    {
     "name": "stdout",
     "output_type": "stream",
     "text": [
      "Buddy says Woof!\n"
     ]
    }
   ],
   "source": [
    "\n",
    "#Task 2: Define a class with an init method\n",
    "class Dog:\n",
    "    def __init__(self, name):\n",
    "        self.name = name\n",
    "\n",
    "    def bark(self):\n",
    "        print(f\"{self.name} says Woof!\")\n",
    "\n",
    "dog = Dog(\"Buddy\")\n",
    "dog.bark()\n"
   ]
  },
  {
   "cell_type": "code",
   "execution_count": 3,
   "id": "133f0bba-7f46-4b10-b825-a66e0bec393a",
   "metadata": {},
   "outputs": [
    {
     "name": "stdout",
     "output_type": "stream",
     "text": [
      "Buddy is a Canis familiaris and is 5 years old.\n",
      "Buddy says Woof!\n"
     ]
    }
   ],
   "source": [
    "\n",
    "#Task 3: Create a class with class variables and instance variables\n",
    "\n",
    "class Dog:\n",
    "    species = \"Canis familiaris\"\n",
    "\n",
    "    def __init__(self, name, age):\n",
    "        self.name = name\n",
    "        self.age = age\n",
    "\n",
    "    def bark(self):\n",
    "        print(f\"{self.name} says Woof!\")\n",
    "\n",
    "dog = Dog(\"Buddy\", 5)\n",
    "print(f\"{dog.name} is a {dog.species} and is {dog.age} years old.\")\n",
    "dog.bark()\n"
   ]
  },
  {
   "cell_type": "code",
   "execution_count": 4,
   "id": "dfec87b0-b103-40ea-b0f1-f3aaaec2fc7e",
   "metadata": {},
   "outputs": [
    {
     "name": "stdout",
     "output_type": "stream",
     "text": [
      "Woof!\n",
      "Meow!\n"
     ]
    }
   ],
   "source": [
    "#Task 4: Define a subclass that inherits from a superclas\n",
    "class Animal:\n",
    "    def __init__(self, name):\n",
    "        self.name = name\n",
    "\n",
    "    def speak(self):\n",
    "        pass\n",
    "\n",
    "class Dog(Animal):\n",
    "    def speak(self):\n",
    "        return \"Woof!\"\n",
    "\n",
    "class Cat(Animal):\n",
    "    def speak(self):\n",
    "        return \"Meow!\"\n",
    "\n",
    "dog = Dog(\"Buddy\")\n",
    "cat = Cat(\"Whiskers\")\n",
    "print(dog.speak())\n",
    "print(cat.speak())\n"
   ]
  },
  {
   "cell_type": "code",
   "execution_count": 5,
   "id": "d686c7c2-658e-4192-968f-a146088da8bd",
   "metadata": {},
   "outputs": [
    {
     "name": "stdout",
     "output_type": "stream",
     "text": [
      "Name: Alice\n",
      "Age: 30\n"
     ]
    }
   ],
   "source": [
    "#Task 5: Use encapsulation to hide data\n",
    "\n",
    "class Person:\n",
    "    def __init__(self, name, age):\n",
    "        self.__name = name\n",
    "        self.__age = age\n",
    "\n",
    "    def get_name(self):\n",
    "        return self.__name\n",
    "\n",
    "    def get_age(self):\n",
    "        return self.__age\n",
    "\n",
    "person = Person(\"Alice\", 30)\n",
    "print(f\"Name: {person.get_name()}\")\n",
    "print(f\"Age: {person.get_age()}\")"
   ]
  },
  {
   "cell_type": "code",
   "execution_count": null,
   "id": "32bbc28c-81e3-44d5-ad39-451b8c53936b",
   "metadata": {},
   "outputs": [],
   "source": []
  }
 ],
 "metadata": {
  "kernelspec": {
   "display_name": "Python 3 (ipykernel)",
   "language": "python",
   "name": "python3"
  },
  "language_info": {
   "codemirror_mode": {
    "name": "ipython",
    "version": 3
   },
   "file_extension": ".py",
   "mimetype": "text/x-python",
   "name": "python",
   "nbconvert_exporter": "python",
   "pygments_lexer": "ipython3",
   "version": "3.11.7"
  }
 },
 "nbformat": 4,
 "nbformat_minor": 5
}
