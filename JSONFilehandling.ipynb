{
 "cells": [
  {
   "cell_type": "code",
   "execution_count": 1,
   "id": "a42a4415-152e-411c-83be-67274d47b664",
   "metadata": {},
   "outputs": [],
   "source": [
    "import json"
   ]
  },
  {
   "cell_type": "code",
   "execution_count": 6,
   "id": "2bb99fb3-3720-45b7-8937-65d900eacc86",
   "metadata": {},
   "outputs": [],
   "source": [
    "alphabet_letters = [\"a\", \"b\", \"c\"]\n",
    "with open(\"alphabet_list.json\", \"w\") as f:\n",
    "    json.dump(alphabet_letters, f)\n"
   ]
  },
  {
   "cell_type": "code",
   "execution_count": 7,
   "id": "c465e967-d657-49c8-bd8b-49df93b6fe9f",
   "metadata": {},
   "outputs": [],
   "source": [
    "customer_29876 = {\n",
    "    \"first name\": \"David\",\n",
    "    \"last name\": \"Elliott\",\n",
    "    \"address\": \"4803 Wellesley St.\",\n",
    "     }\n"
   ]
  },
  {
   "cell_type": "code",
   "execution_count": 8,
   "id": "cd3d4fd9-2815-4b64-a7bc-280ead5f513f",
   "metadata": {},
   "outputs": [],
   "source": [
    "with open(\"customer_29876.json\", \"w\") as f:\n",
    "    json.dump(customer_29876, f)"
   ]
  },
  {
   "cell_type": "code",
   "execution_count": 9,
   "id": "6cf2a7c4-0995-4bbb-8561-d9f3191b0bb7",
   "metadata": {},
   "outputs": [],
   "source": [
    "with open(\"customer_29876.json\") as f:\n",
    "    customer_29876 = json.load(f)"
   ]
  },
  {
   "cell_type": "code",
   "execution_count": 10,
   "id": "7c69fe14-7f9e-4916-8a7b-13cac5b1063b",
   "metadata": {},
   "outputs": [
    {
     "name": "stdout",
     "output_type": "stream",
     "text": [
      "{'first name': 'David', 'last name': 'Elliott', 'address': '4803 Wellesley St.'}\n"
     ]
    }
   ],
   "source": [
    "print(customer_29876)\n"
   ]
  },
  {
   "cell_type": "code",
   "execution_count": 11,
   "id": "6ad9634d-9987-40e9-bde9-6d9837c31496",
   "metadata": {},
   "outputs": [
    {
     "name": "stdout",
     "output_type": "stream",
     "text": [
      "Elliott\n"
     ]
    }
   ],
   "source": [
    "print(customer_29876[\"last name\"])\n"
   ]
  },
  {
   "cell_type": "code",
   "execution_count": 22,
   "id": "7297602c-8131-42a2-8a51-bef48e13d82d",
   "metadata": {},
   "outputs": [
    {
     "name": "stdin",
     "output_type": "stream",
     "text": [
      "What text file to open?  hi\n"
     ]
    },
    {
     "name": "stdout",
     "output_type": "stream",
     "text": [
      "Sorry, hi not found.\n"
     ]
    }
   ],
   "source": [
    "try:\n",
    "    filename = input(\"What text file to open? \")\n",
    "    with open(filename) as f:\n",
    "        print(f.read())\n",
    "except FileNotFoundError:\n",
    "    print(\"Sorry, \" + filename + \" not found.\")"
   ]
  },
  {
   "cell_type": "code",
   "execution_count": null,
   "id": "2c844671-4e03-4e43-9d46-6bc824bd277c",
   "metadata": {},
   "outputs": [],
   "source": []
  }
 ],
 "metadata": {
  "kernelspec": {
   "display_name": "Python 3 (ipykernel)",
   "language": "python",
   "name": "python3"
  },
  "language_info": {
   "codemirror_mode": {
    "name": "ipython",
    "version": 3
   },
   "file_extension": ".py",
   "mimetype": "text/x-python",
   "name": "python",
   "nbconvert_exporter": "python",
   "pygments_lexer": "ipython3",
   "version": "3.11.7"
  }
 },
 "nbformat": 4,
 "nbformat_minor": 5
}
